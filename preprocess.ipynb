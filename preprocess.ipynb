{
 "cells": [
  {
   "cell_type": "code",
   "execution_count": 87,
   "id": "389e178a",
   "metadata": {},
   "outputs": [
    {
     "name": "stderr",
     "output_type": "stream",
     "text": [
      "<>:19: SyntaxWarning: invalid escape sequence '\\p'\n",
      "<>:19: SyntaxWarning: invalid escape sequence '\\p'\n",
      "C:\\Users\\Lenovo\\AppData\\Local\\Temp\\ipykernel_31572\\952682461.py:19: SyntaxWarning: invalid escape sequence '\\p'\n",
      "  sites_tracker=pd.read_excel(\"D:\\payroll\\Site_Tracker_1754578592.xlsx\",header=2)\n"
     ]
    },
    {
     "name": "stdout",
     "output_type": "stream",
     "text": [
      "200\n"
     ]
    }
   ],
   "source": [
    "import pandas as pd\n",
    "from rapidfuzz import fuzz,process\n",
    "charge_capture_df=pd.read_excel(\"Charge_Capture_-_Jul_20th_-_Aug_2nd.xlsx\")\n",
    "sorted_fac = sorted(charge_capture_df['Facility'].unique())\n",
    "\n",
    "import re\n",
    "metadata = {}\n",
    "pattern = re.compile(r'\\b9930\\d{2}\\b')  # Example pattern for 6-digit codes starting with 9930\n",
    "cpt_time_dict = {\n",
    "    \"99304\": 60,\n",
    "    \"99305\": 75,\n",
    "    \"99306\": 90,\n",
    "    \"99307\": 15,\n",
    "    \"99308\": 25,\n",
    "    \"99309\": 35,\n",
    "    \"99310\": 45\n",
    "}\n",
    "Facilites_groups=charge_capture_df.groupby('Facility', as_index=False)\n",
    "sites_tracker=pd.read_excel(\"D:\\payroll\\Site_Tracker_1754578592.xlsx\",header=2)\n",
    "sites_tracker=sites_tracker[[\"Name\",\"Chain\"]]\n",
    "print(len(sorted_fac))"
   ]
  },
  {
   "cell_type": "code",
   "execution_count": null,
   "id": "e4c3a295",
   "metadata": {},
   "outputs": [
    {
     "name": "stdout",
     "output_type": "stream",
     "text": [
      "Aliya of Highwood\n",
      "Aliya of Homewood\n",
      "Aliya of Oak Lawn\n",
      "Aliya of Palos Park\n",
      "Alta Rehab at Fairmont (M)\n",
      "Alta Rehab at Oak Brook\n",
      "Arcadia Care Peoria Heights\n",
      "Beecher Manor Nursing and Rehab Center\n",
      "Crestwood Rehabilitation Center, LLC\n",
      "Crown Point Health Campus\n",
      "Elevate Care Abington\n",
      "Elevate Care Palos Heights\n",
      "Elevate Care Windsor Park\n",
      "Elevate Care of South Holland\n",
      "Encore Village SNF (M)\n",
      "Fountain Blue Rehab and Nursing\n",
      "Harbor Health & Rehab (M)\n",
      "Haven of St. Elmo LLC\n",
      "Highland Operations LLC\n",
      "Highland Village Skilled Care, LLC\n",
      "Kingston Care Center of Sylvania\n",
      "Kingston Rehabilitation of Perrysburg\n",
      "Lakes Care Center -SNF\n",
      "Lakewood Nursing and Rehabilitation Center\n",
      "Lemont Nursing and Rehab Center\n",
      "Lincolnshire Health Care Center\n",
      "Munster Med Inn\n",
      "Neighbors Care Center (M)\n",
      "OSF Home Health\n",
      "Seacrest Rehabilitation and Nursing Center\n",
      "Spring Mill Health Campus\n",
      "St. Francis - SNF\n",
      "St. James Manor and Villas\n",
      "Test Facility\n",
      "Test Facility Updated \n",
      "Corporate groups and single facilities have been saved to grouped_facilities.xlsx\n"
     ]
    },
    {
     "name": "stderr",
     "output_type": "stream",
     "text": [
      "C:\\Users\\Lenovo\\AppData\\Local\\Temp\\ipykernel_31572\\36378903.py:24: UserWarning: This pattern is interpreted as a regular expression, and has match groups. To actually get the groups, use str.extract.\n",
      "  filtered = sites_tracker[sites_tracker['Name'].str.contains(match[0][0], case=False, na=False)]\n"
     ]
    }
   ],
   "source": [
    "from collections import defaultdict\n",
    "stopwords = {\"of\", \"the\", \"at\",\"rehabilitation and nursing center\",\"nursing and rehabilitation center\"}\n",
    "\n",
    "def normalize_name(name):\n",
    "    # Convert to lowercase and remove stopwords\n",
    "    if not isinstance(name, str):\n",
    "        name = str(name)\n",
    "    name = name.replace(\"-\", \"\")  # Remove hyphens\n",
    "    name = name.replace(\"&\", \"and\")  # Replace ampersands with 'and'\n",
    "    name=name.replace(\"(M)\",\"\")\n",
    "    words = name.lower()\n",
    "    return words\n",
    "\n",
    "# Ensure all values in 'Name' column are strings\n",
    "sites_tracker['Name'] = sites_tracker['Name'].astype(str)\n",
    "\n",
    "# Example: group by the first word in the facility name\n",
    "grouped_facilities = defaultdict(list)\n",
    "for fac in sorted_fac:\n",
    "    normalized_fac = normalize_name(fac)\n",
    "    normalized_site = sites_tracker['Name'].apply(normalize_name)\n",
    "    match = process.extract(normalized_fac, normalized_site, scorer=fuzz.partial_ratio, limit=5)\n",
    "    if match[0][1] > 94:\n",
    "        filtered = sites_tracker[sites_tracker['Name'].str.contains(match[0][0], case=False, na=False)]\n",
    "        if not filtered.empty:\n",
    "            key = filtered['Chain'].values[0]\n",
    "            grouped_facilities[key].append((match[0][0], match[0][1], fac))\n",
    "    else:\n",
    "        key = fac.split()[0]\n",
    "        # print(fac)\n",
    "        if key.lower() in stopwords:\n",
    "            key = fac.split()[1]\n",
    "        grouped_facilities[key].append((\"none\", \"  \", fac))\n",
    "    \n",
    "corporate_groups = {k: v for k, v in grouped_facilities.items() if len(v) > 1}\n",
    "single_facilities = {k: v for k, v in grouped_facilities.items() if len(v) == 1}\n",
    "\n",
    "# Save corporate_groups and single_facilities to an Excel file\n",
    "with pd.ExcelWriter(\"grouped_facilities.xlsx\") as writer:\n",
    "    corporate_groups_df = pd.DataFrame([(key, facility[0], facility[1], facility[2]) for key, facilities in corporate_groups.items() for facility in facilities], columns=[\"Group\", \"Match Name\", \"Score\", \"Facility Name\"])\n",
    "    single_facilities_df = pd.DataFrame([(key, facility[0], facility[1], facility[2]) for key, facilities in single_facilities.items() for facility in facilities], columns=[\"Group\", \"Match Name\", \"Score\", \"Facility Name\"])\n",
    "\n",
    "    corporate_groups_df.to_excel(writer, sheet_name=\"Corporate Groups\", index=False)\n",
    "    single_facilities_df.to_excel(writer, sheet_name=\"Single Facilities\", index=False)\n",
    "\n",
    "print(\"Corporate groups and single facilities have been saved to grouped_facilities.xlsx\")"
   ]
  },
  {
   "cell_type": "code",
   "execution_count": 42,
   "id": "431c1460",
   "metadata": {},
   "outputs": [
    {
     "name": "stdout",
     "output_type": "stream",
     "text": [
      "Processing Corporate Group: Omnia / Citadel, Facility: AMBD Property LLC dba Amberwood Care Centre (M)\n",
      "Processing Corporate Group: Omnia / Citadel, Facility: Citadel Care Center - Sterling LLC\n",
      "Processing Corporate Group: Omnia / Citadel, Facility: PA Peterson at the Citadel\n",
      "Processing Corporate Group: Omnia / Citadel, Facility: Pavilion of Ottawa (M)\n",
      "                                          Facility         Clinician  \\\n",
      "0  AMBD Property LLC dba Amberwood Care Centre (M)  Melissa Townsend   \n",
      "1               Citadel Care Center - Sterling LLC  Katelin Breuning   \n",
      "2                       PA Peterson at the Citadel  Melissa Townsend   \n",
      "3                           Pavilion of Ottawa (M)     Tamara  Baird   \n",
      "\n",
      "       Hours  \n",
      "0  15.833333  \n",
      "1  10.833333  \n",
      "2  32.083333  \n",
      "3  47.166667  \n"
     ]
    }
   ],
   "source": [
    "for key, facilities in corporate_groups.items():\n",
    "    metadata[key] = {}  # Initialize the dictionary for this key\n",
    "    metadata[key]['Facility_Data'] = {}\n",
    "    corp_data = pd.DataFrame()\n",
    "    facility_summary = []\n",
    "    for facility in facilities:\n",
    "        print(f\"Processing Corporate Group: {key}, Facility: {facility}\")\n",
    "        group = Facilites_groups.get_group(facility).copy()\n",
    "        group['CPT Codes'] = group['CPT Codes'].astype(str).str.split(',')\n",
    "        group = group.explode('CPT Codes')\n",
    "        group['CPT Codes'] = group['CPT Codes'].str.strip()\n",
    "        Facility_Level = group.groupby(['Provider', 'CPT Codes', 'DOS']).size().reset_index(name='Count')\n",
    "        Facility_Level['Minutes'] = Facility_Level['CPT Codes'].astype(str).map(cpt_time_dict) * Facility_Level['Count']\n",
    "        # Remove rows where Minutes == 0 or is NaN\n",
    "        Facility_Level = Facility_Level[(Facility_Level['Minutes'] != 0) & (Facility_Level['Minutes'].notna())]\n",
    "        Facility_Level_result = Facility_Level.groupby(['Provider', 'DOS'], as_index=False)['Minutes'].sum()\n",
    "        Facility_Level_result['Hours'] = Facility_Level_result['Minutes'] / 60\n",
    "        # Group by Provider for this facility and sum hours\n",
    "        provider_hours = Facility_Level_result.groupby('Provider', as_index=False)['Hours'].sum()\n",
    "        provider_hours['Facility'] = facility\n",
    "        facility_summary.append(provider_hours)\n",
    "        metadata[key]['Facility_Data'][facility] = Facility_Level_result\n",
    "    # Concatenate all facility summaries\n",
    "    summary_df = pd.concat(facility_summary, ignore_index=True)\n",
    "    # Group by Facility, aggregate clinicians and sum hours\n",
    "    summary_grouped = summary_df.groupby('Facility').agg({\n",
    "        'Provider': lambda x: '\\n'.join(x),\n",
    "        'Hours': 'sum'\n",
    "    }).reset_index()\n",
    "    summary_grouped = summary_grouped.rename(columns={'Provider': 'Clinician'})\n",
    "    metadata[key]['Corp_data'] = summary_grouped\n",
    "    print(summary_grouped)\n",
    "    break"
   ]
  },
  {
   "cell_type": "code",
   "execution_count": null,
   "id": "99693301",
   "metadata": {},
   "outputs": [
    {
     "name": "stdout",
     "output_type": "stream",
     "text": [
      "Corporate groups and single facilities have been saved to grouped_facilities.xlsx\n"
     ]
    }
   ],
   "source": []
  },
  {
   "cell_type": "code",
   "execution_count": null,
   "id": "507f00c8",
   "metadata": {},
   "outputs": [],
   "source": [
    "group = Facilites_groups.get_group( 'Accolade Healthcare of Pontiac LLC')\n",
    "provider=group[['Provider', 'CPT Codes', 'DOS']]\n",
    "provider['CPT Codes'] = provider['CPT Codes'].astype(str).str.split(',')\n",
    "provider_exploded = provider.explode('CPT Codes')\n",
    "provider_exploded['CPT Codes'] = provider_exploded['CPT Codes'].str.strip()\n",
    "provider_exploded\n",
    "counts = group[['Provider', 'CPT Codes']].value_counts().reset_index(name='Count')\n",
    "counts"
   ]
  },
  {
   "cell_type": "code",
   "execution_count": null,
   "id": "c5cf5c27",
   "metadata": {},
   "outputs": [],
   "source": [
    "filtered = provider_exploded[(provider_exploded['Provider'] == 'Hina Patel')]\n",
    "cpt_time_dict = {\n",
    "    \"99304\": 60,\n",
    "    \"99305\": 75,\n",
    "    \"99306\": 90,\n",
    "    \"99307\": 15,\n",
    "    \"99308\": 25,\n",
    "    \"99309\": 35,\n",
    "    \"99310\": 45\n",
    "}\n",
    "sum=150+(13*35)"
   ]
  },
  {
   "cell_type": "code",
   "execution_count": null,
   "id": "fe860d95",
   "metadata": {},
   "outputs": [],
   "source": [
    "filtered"
   ]
  },
  {
   "cell_type": "code",
   "execution_count": null,
   "id": "4109699c",
   "metadata": {},
   "outputs": [],
   "source": []
  },
  {
   "cell_type": "code",
   "execution_count": null,
   "id": "ec209414",
   "metadata": {},
   "outputs": [],
   "source": [
    "metadata[\"Accolade\"]"
   ]
  },
  {
   "cell_type": "code",
   "execution_count": null,
   "id": "fc97fba7",
   "metadata": {},
   "outputs": [],
   "source": [
    "\n",
    "new_PR=pd.read_excel(\"D:\\payroll\\Payroll History (18) (1).xlsx\")"
   ]
  },
  {
   "cell_type": "code",
   "execution_count": null,
   "id": "226381f2",
   "metadata": {},
   "outputs": [],
   "source": [
    "import pandas as pd\n",
    "sites_tracker=pd.read_excel(\"D:\\payroll\\Site_Tracker_1754578592.xlsx\",header=2)\n",
    "sites_tracker=sites_tracker[[\"Name\",\"Chain\"]]"
   ]
  },
  {
   "cell_type": "code",
   "execution_count": null,
   "id": "156fca53",
   "metadata": {},
   "outputs": [],
   "source": [
    "sites_tracker.head()"
   ]
  },
  {
   "cell_type": "code",
   "execution_count": null,
   "id": "ba6bfba9",
   "metadata": {},
   "outputs": [],
   "source": [
    "from rapidfuzz import fuzz,process\n",
    "\n",
    "for fac in sorted_fac:\n",
    "    match = process.extract(fac, sites_tracker['Name'], scorer=fuzz.partial_ratio, limit=5)\n",
    "    if not match:\n",
    "        print(f\"Facility: {fac}\")\n",
    "        print(\"No matches found\")\n",
    "    else:\n",
    "        # print(f\"Facility: {fac}\")\n",
    "        if match[0][1] < 80:\n",
    "            print(f\"Facility: {fac}\")\n",
    "            print(\"top matche\", match[0])\n",
    "            print(\"sites_tracker matches\", sites_tracker[sites_tracker['Name'].str.contains(match[0][0], case=False, na=False)]['Chain'].values[0])\n",
    "            print(\"-\" * 40)"
   ]
  },
  {
   "cell_type": "code",
   "execution_count": null,
   "id": "e89bedd3",
   "metadata": {},
   "outputs": [],
   "source": []
  }
 ],
 "metadata": {
  "kernelspec": {
   "display_name": "clean_env",
   "language": "python",
   "name": "python3"
  },
  "language_info": {
   "codemirror_mode": {
    "name": "ipython",
    "version": 3
   },
   "file_extension": ".py",
   "mimetype": "text/x-python",
   "name": "python",
   "nbconvert_exporter": "python",
   "pygments_lexer": "ipython3",
   "version": "3.13.1"
  }
 },
 "nbformat": 4,
 "nbformat_minor": 5
}
