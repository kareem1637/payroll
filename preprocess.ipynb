{
 "cells": [
  {
   "cell_type": "code",
   "execution_count": 2,
   "id": "389e178a",
   "metadata": {},
   "outputs": [
    {
     "name": "stderr",
     "output_type": "stream",
     "text": [
      "<>:3: SyntaxWarning: invalid escape sequence '\\p'\n",
      "<>:3: SyntaxWarning: invalid escape sequence '\\p'\n",
      "C:\\Users\\Lenovo\\AppData\\Local\\Temp\\ipykernel_12480\\2070135682.py:3: SyntaxWarning: invalid escape sequence '\\p'\n",
      "  charge_capture_df=pd.read_excel(\"D:\\payroll\\Charge Capture - Jul 20th - Aug 2nd.xlsx\")\n",
      "C:\\Users\\Lenovo\\AppData\\Local\\Temp\\ipykernel_12480\\2070135682.py:3: SyntaxWarning: invalid escape sequence '\\p'\n",
      "  charge_capture_df=pd.read_excel(\"D:\\payroll\\Charge Capture - Jul 20th - Aug 2nd.xlsx\")\n"
     ]
    },
    {
     "ename": "FileNotFoundError",
     "evalue": "[Errno 2] No such file or directory: 'D:\\\\payroll\\\\Charge Capture - Jul 20th - Aug 2nd.xlsx'",
     "output_type": "error",
     "traceback": [
      "\u001b[31m---------------------------------------------------------------------------\u001b[39m",
      "\u001b[31mFileNotFoundError\u001b[39m                         Traceback (most recent call last)",
      "\u001b[36mCell\u001b[39m\u001b[36m \u001b[39m\u001b[32mIn[2]\u001b[39m\u001b[32m, line 3\u001b[39m\n\u001b[32m      1\u001b[39m \u001b[38;5;28;01mimport\u001b[39;00m\u001b[38;5;250m \u001b[39m\u001b[34;01mpandas\u001b[39;00m\u001b[38;5;250m \u001b[39m\u001b[38;5;28;01mas\u001b[39;00m\u001b[38;5;250m \u001b[39m\u001b[34;01mpd\u001b[39;00m\n\u001b[32m----> \u001b[39m\u001b[32m3\u001b[39m charge_capture_df=\u001b[43mpd\u001b[49m\u001b[43m.\u001b[49m\u001b[43mread_excel\u001b[49m\u001b[43m(\u001b[49m\u001b[33;43m\"\u001b[39;49m\u001b[33;43mD:\u001b[39;49m\u001b[33;43m\\\u001b[39;49m\u001b[33;43mpayroll\u001b[39;49m\u001b[33;43m\\\u001b[39;49m\u001b[33;43mCharge Capture - Jul 20th - Aug 2nd.xlsx\u001b[39;49m\u001b[33;43m\"\u001b[39;49m\u001b[43m)\u001b[49m\n\u001b[32m      4\u001b[39m sorted_fac = \u001b[38;5;28msorted\u001b[39m(charge_capture_df[\u001b[33m'\u001b[39m\u001b[33mFacility\u001b[39m\u001b[33m'\u001b[39m].unique())\n\u001b[32m      6\u001b[39m \u001b[38;5;28;01mimport\u001b[39;00m\u001b[38;5;250m \u001b[39m\u001b[34;01mre\u001b[39;00m\n",
      "\u001b[36mFile \u001b[39m\u001b[32md:\\payroll\\clean_env\\Lib\\site-packages\\pandas\\io\\excel\\_base.py:495\u001b[39m, in \u001b[36mread_excel\u001b[39m\u001b[34m(io, sheet_name, header, names, index_col, usecols, dtype, engine, converters, true_values, false_values, skiprows, nrows, na_values, keep_default_na, na_filter, verbose, parse_dates, date_parser, date_format, thousands, decimal, comment, skipfooter, storage_options, dtype_backend, engine_kwargs)\u001b[39m\n\u001b[32m    493\u001b[39m \u001b[38;5;28;01mif\u001b[39;00m \u001b[38;5;129;01mnot\u001b[39;00m \u001b[38;5;28misinstance\u001b[39m(io, ExcelFile):\n\u001b[32m    494\u001b[39m     should_close = \u001b[38;5;28;01mTrue\u001b[39;00m\n\u001b[32m--> \u001b[39m\u001b[32m495\u001b[39m     io = \u001b[43mExcelFile\u001b[49m\u001b[43m(\u001b[49m\n\u001b[32m    496\u001b[39m \u001b[43m        \u001b[49m\u001b[43mio\u001b[49m\u001b[43m,\u001b[49m\n\u001b[32m    497\u001b[39m \u001b[43m        \u001b[49m\u001b[43mstorage_options\u001b[49m\u001b[43m=\u001b[49m\u001b[43mstorage_options\u001b[49m\u001b[43m,\u001b[49m\n\u001b[32m    498\u001b[39m \u001b[43m        \u001b[49m\u001b[43mengine\u001b[49m\u001b[43m=\u001b[49m\u001b[43mengine\u001b[49m\u001b[43m,\u001b[49m\n\u001b[32m    499\u001b[39m \u001b[43m        \u001b[49m\u001b[43mengine_kwargs\u001b[49m\u001b[43m=\u001b[49m\u001b[43mengine_kwargs\u001b[49m\u001b[43m,\u001b[49m\n\u001b[32m    500\u001b[39m \u001b[43m    \u001b[49m\u001b[43m)\u001b[49m\n\u001b[32m    501\u001b[39m \u001b[38;5;28;01melif\u001b[39;00m engine \u001b[38;5;129;01mand\u001b[39;00m engine != io.engine:\n\u001b[32m    502\u001b[39m     \u001b[38;5;28;01mraise\u001b[39;00m \u001b[38;5;167;01mValueError\u001b[39;00m(\n\u001b[32m    503\u001b[39m         \u001b[33m\"\u001b[39m\u001b[33mEngine should not be specified when passing \u001b[39m\u001b[33m\"\u001b[39m\n\u001b[32m    504\u001b[39m         \u001b[33m\"\u001b[39m\u001b[33man ExcelFile - ExcelFile already has the engine set\u001b[39m\u001b[33m\"\u001b[39m\n\u001b[32m    505\u001b[39m     )\n",
      "\u001b[36mFile \u001b[39m\u001b[32md:\\payroll\\clean_env\\Lib\\site-packages\\pandas\\io\\excel\\_base.py:1550\u001b[39m, in \u001b[36mExcelFile.__init__\u001b[39m\u001b[34m(self, path_or_buffer, engine, storage_options, engine_kwargs)\u001b[39m\n\u001b[32m   1548\u001b[39m     ext = \u001b[33m\"\u001b[39m\u001b[33mxls\u001b[39m\u001b[33m\"\u001b[39m\n\u001b[32m   1549\u001b[39m \u001b[38;5;28;01melse\u001b[39;00m:\n\u001b[32m-> \u001b[39m\u001b[32m1550\u001b[39m     ext = \u001b[43minspect_excel_format\u001b[49m\u001b[43m(\u001b[49m\n\u001b[32m   1551\u001b[39m \u001b[43m        \u001b[49m\u001b[43mcontent_or_path\u001b[49m\u001b[43m=\u001b[49m\u001b[43mpath_or_buffer\u001b[49m\u001b[43m,\u001b[49m\u001b[43m \u001b[49m\u001b[43mstorage_options\u001b[49m\u001b[43m=\u001b[49m\u001b[43mstorage_options\u001b[49m\n\u001b[32m   1552\u001b[39m \u001b[43m    \u001b[49m\u001b[43m)\u001b[49m\n\u001b[32m   1553\u001b[39m     \u001b[38;5;28;01mif\u001b[39;00m ext \u001b[38;5;129;01mis\u001b[39;00m \u001b[38;5;28;01mNone\u001b[39;00m:\n\u001b[32m   1554\u001b[39m         \u001b[38;5;28;01mraise\u001b[39;00m \u001b[38;5;167;01mValueError\u001b[39;00m(\n\u001b[32m   1555\u001b[39m             \u001b[33m\"\u001b[39m\u001b[33mExcel file format cannot be determined, you must specify \u001b[39m\u001b[33m\"\u001b[39m\n\u001b[32m   1556\u001b[39m             \u001b[33m\"\u001b[39m\u001b[33man engine manually.\u001b[39m\u001b[33m\"\u001b[39m\n\u001b[32m   1557\u001b[39m         )\n",
      "\u001b[36mFile \u001b[39m\u001b[32md:\\payroll\\clean_env\\Lib\\site-packages\\pandas\\io\\excel\\_base.py:1402\u001b[39m, in \u001b[36minspect_excel_format\u001b[39m\u001b[34m(content_or_path, storage_options)\u001b[39m\n\u001b[32m   1399\u001b[39m \u001b[38;5;28;01mif\u001b[39;00m \u001b[38;5;28misinstance\u001b[39m(content_or_path, \u001b[38;5;28mbytes\u001b[39m):\n\u001b[32m   1400\u001b[39m     content_or_path = BytesIO(content_or_path)\n\u001b[32m-> \u001b[39m\u001b[32m1402\u001b[39m \u001b[38;5;28;01mwith\u001b[39;00m \u001b[43mget_handle\u001b[49m\u001b[43m(\u001b[49m\n\u001b[32m   1403\u001b[39m \u001b[43m    \u001b[49m\u001b[43mcontent_or_path\u001b[49m\u001b[43m,\u001b[49m\u001b[43m \u001b[49m\u001b[33;43m\"\u001b[39;49m\u001b[33;43mrb\u001b[39;49m\u001b[33;43m\"\u001b[39;49m\u001b[43m,\u001b[49m\u001b[43m \u001b[49m\u001b[43mstorage_options\u001b[49m\u001b[43m=\u001b[49m\u001b[43mstorage_options\u001b[49m\u001b[43m,\u001b[49m\u001b[43m \u001b[49m\u001b[43mis_text\u001b[49m\u001b[43m=\u001b[49m\u001b[38;5;28;43;01mFalse\u001b[39;49;00m\n\u001b[32m   1404\u001b[39m \u001b[43m\u001b[49m\u001b[43m)\u001b[49m \u001b[38;5;28;01mas\u001b[39;00m handle:\n\u001b[32m   1405\u001b[39m     stream = handle.handle\n\u001b[32m   1406\u001b[39m     stream.seek(\u001b[32m0\u001b[39m)\n",
      "\u001b[36mFile \u001b[39m\u001b[32md:\\payroll\\clean_env\\Lib\\site-packages\\pandas\\io\\common.py:882\u001b[39m, in \u001b[36mget_handle\u001b[39m\u001b[34m(path_or_buf, mode, encoding, compression, memory_map, is_text, errors, storage_options)\u001b[39m\n\u001b[32m    873\u001b[39m         handle = \u001b[38;5;28mopen\u001b[39m(\n\u001b[32m    874\u001b[39m             handle,\n\u001b[32m    875\u001b[39m             ioargs.mode,\n\u001b[32m   (...)\u001b[39m\u001b[32m    878\u001b[39m             newline=\u001b[33m\"\u001b[39m\u001b[33m\"\u001b[39m,\n\u001b[32m    879\u001b[39m         )\n\u001b[32m    880\u001b[39m     \u001b[38;5;28;01melse\u001b[39;00m:\n\u001b[32m    881\u001b[39m         \u001b[38;5;66;03m# Binary mode\u001b[39;00m\n\u001b[32m--> \u001b[39m\u001b[32m882\u001b[39m         handle = \u001b[38;5;28;43mopen\u001b[39;49m\u001b[43m(\u001b[49m\u001b[43mhandle\u001b[49m\u001b[43m,\u001b[49m\u001b[43m \u001b[49m\u001b[43mioargs\u001b[49m\u001b[43m.\u001b[49m\u001b[43mmode\u001b[49m\u001b[43m)\u001b[49m\n\u001b[32m    883\u001b[39m     handles.append(handle)\n\u001b[32m    885\u001b[39m \u001b[38;5;66;03m# Convert BytesIO or file objects passed with an encoding\u001b[39;00m\n",
      "\u001b[31mFileNotFoundError\u001b[39m: [Errno 2] No such file or directory: 'D:\\\\payroll\\\\Charge Capture - Jul 20th - Aug 2nd.xlsx'"
     ]
    }
   ],
   "source": [
    "import pandas as pd\n",
    "\n",
    "charge_capture_df=pd.read_excel(\"D:\\payroll\\Charge Capture - Jul 20th - Aug 2nd.xlsx\")\n",
    "sorted_fac = sorted(charge_capture_df['Facility'].unique())\n",
    "\n",
    "import re\n",
    "metadata = {}\n",
    "pattern = re.compile(r'\\b9930\\d{2}\\b')  # Example pattern for 6-digit codes starting with 9930\n",
    "cpt_time_dict = {\n",
    "    \"99304\": 60,\n",
    "    \"99305\": 75,\n",
    "    \"99306\": 90,\n",
    "    \"99307\": 15,\n",
    "    \"99308\": 25,\n",
    "    \"99309\": 35,\n",
    "    \"99310\": 45\n",
    "}\n",
    "Facilites_groups=charge_capture_df.groupby('Facility', as_index=False)"
   ]
  },
  {
   "cell_type": "code",
   "execution_count": null,
   "id": "e4c3a295",
   "metadata": {},
   "outputs": [],
   "source": [
    "from collections import defaultdict\n",
    "stopwords = {\"of\", \"the\", \"at\", \"and\", \"care\", \"center\", \"rehab\", \"nursing\", \"health\", \"llc\", \"snf\", \"m\", \"by\", \"for\", \"on\", \"in\", \"living\", \"villa\", \"home\"}\n",
    "\n",
    "# Example: group by the first word in the facility name\n",
    "grouped_facilities = defaultdict(list)\n",
    "for fac in sorted_fac:\n",
    "    key = fac.split()[0]  # or use a different logic for matching\n",
    "    if key.lower() in stopwords:\n",
    "        key = fac.split()[1]\n",
    "    grouped_facilities[key].append(fac)\n",
    "corporate_groups = {k: v for k, v in grouped_facilities.items() if len(v) > 1}\n",
    "single_facilities = {k: v for k, v in grouped_facilities.items() if len(v) == 1}\n",
    "keys_to_remove = []\n",
    "# Try to merge singles into corporate groups if their key matches\n",
    "for key, facilities in single_facilities.items():\n",
    "    for corp_key in corporate_groups:\n",
    "        if corp_key.lower() in single_facilities[key][0].lower():\n",
    "            corporate_groups[corp_key].extend(facilities)\n",
    "            keys_to_remove.append(key)\n",
    "            break\n",
    "for key in keys_to_remove:\n",
    "    if key in single_facilities:\n",
    "        del single_facilities[key]\n",
    "# # Print results\n",
    "# for key, facilities in corporate_groups.items():\n",
    "#     print(f\"Corporate group '{key}': {facilities}\")\n",
    "\n",
    "# for key, facilities in single_facilities.items():\n",
    "#     print(f\"Single facility '{key}': {facilities}\")\n"
   ]
  },
  {
   "cell_type": "code",
   "execution_count": null,
   "id": "431c1460",
   "metadata": {},
   "outputs": [
    {
     "name": "stdout",
     "output_type": "stream",
     "text": [
      "Processing Corporate Group: Accolade, Facility: Accolade Healthcare of Danville\n",
      "Processing Corporate Group: Accolade, Facility: Accolade Healthcare of Paxton Senior Living - SNF\n",
      "Processing Corporate Group: Accolade, Facility: Accolade Healthcare of Paxton on Pells\n",
      "Processing Corporate Group: Accolade, Facility: Accolade Healthcare of Peoria (M)\n",
      "Processing Corporate Group: Accolade, Facility: Accolade Healthcare of Pontiac LLC\n",
      "                                            Facility  \\\n",
      "0                    Accolade Healthcare of Danville   \n",
      "1  Accolade Healthcare of Paxton Senior Living - SNF   \n",
      "2             Accolade Healthcare of Paxton on Pells   \n",
      "3                  Accolade Healthcare of Peoria (M)   \n",
      "4                 Accolade Healthcare of Pontiac LLC   \n",
      "\n",
      "                      Clinician      Hours  \n",
      "0             Stephen Skimehorn  50.416667  \n",
      "1                 Christina Hay  73.166667  \n",
      "2                 Christina Hay  64.916667  \n",
      "3                     Eli Perez  18.083333  \n",
      "4  Christina Hay\\nPaige  Dennis  68.750000  \n"
     ]
    }
   ],
   "source": [
    "for key, facilities in corporate_groups.items():\n",
    "    metadata[key] = {}  # Initialize the dictionary for this key\n",
    "    metadata[key]['Facility_Data'] = {}\n",
    "    corp_data = pd.DataFrame()\n",
    "    facility_summary = []\n",
    "    for facility in facilities:\n",
    "        print(f\"Processing Corporate Group: {key}, Facility: {facility}\")\n",
    "        group = Facilites_groups.get_group(facility).copy()\n",
    "        group['CPT Codes'] = group['CPT Codes'].astype(str).str.split(',')\n",
    "        group = group.explode('CPT Codes')\n",
    "        group['CPT Codes'] = group['CPT Codes'].str.strip()\n",
    "        Facility_Level = group.groupby(['Provider', 'CPT Codes', 'DOS']).size().reset_index(name='Count')\n",
    "        Facility_Level['Minutes'] = Facility_Level['CPT Codes'].astype(str).map(cpt_time_dict) * Facility_Level['Count']\n",
    "        # Remove rows where Minutes == 0 or is NaN\n",
    "        Facility_Level = Facility_Level[(Facility_Level['Minutes'] != 0) & (Facility_Level['Minutes'].notna())]\n",
    "        Facility_Level_result = Facility_Level.groupby(['Provider', 'DOS'], as_index=False)['Minutes'].sum()\n",
    "        Facility_Level_result['Hours'] = Facility_Level_result['Minutes'] / 60\n",
    "        # Group by Provider for this facility and sum hours\n",
    "        provider_hours = Facility_Level_result.groupby('Provider', as_index=False)['Hours'].sum()\n",
    "        provider_hours['Facility'] = facility\n",
    "        facility_summary.append(provider_hours)\n",
    "        metadata[key]['Facility_Data'][facility] = Facility_Level_result\n",
    "    # Concatenate all facility summaries\n",
    "    summary_df = pd.concat(facility_summary, ignore_index=True)\n",
    "    # Group by Facility, aggregate clinicians and sum hours\n",
    "    summary_grouped = summary_df.groupby('Facility').agg({\n",
    "        'Provider': lambda x: '\\n'.join(x),\n",
    "        'Hours': 'sum'\n",
    "    }).reset_index()\n",
    "    summary_grouped = summary_grouped.rename(columns={'Provider': 'Clinician'})\n",
    "    metadata[key]['Corp_data'] = summary_grouped\n",
    "    print(summary_grouped)\n",
    "    break"
   ]
  },
  {
   "cell_type": "code",
   "execution_count": null,
   "id": "507f00c8",
   "metadata": {},
   "outputs": [
    {
     "name": "stderr",
     "output_type": "stream",
     "text": [
      "C:\\Users\\Lenovo\\AppData\\Local\\Temp\\ipykernel_9128\\3773572535.py:3: SettingWithCopyWarning: \n",
      "A value is trying to be set on a copy of a slice from a DataFrame.\n",
      "Try using .loc[row_indexer,col_indexer] = value instead\n",
      "\n",
      "See the caveats in the documentation: https://pandas.pydata.org/pandas-docs/stable/user_guide/indexing.html#returning-a-view-versus-a-copy\n",
      "  provider['CPT Codes'] = provider['CPT Codes'].astype(str).str.split(',')\n"
     ]
    },
    {
     "data": {
      "text/html": [
       "<div>\n",
       "<style scoped>\n",
       "    .dataframe tbody tr th:only-of-type {\n",
       "        vertical-align: middle;\n",
       "    }\n",
       "\n",
       "    .dataframe tbody tr th {\n",
       "        vertical-align: top;\n",
       "    }\n",
       "\n",
       "    .dataframe thead th {\n",
       "        text-align: right;\n",
       "    }\n",
       "</style>\n",
       "<table border=\"1\" class=\"dataframe\">\n",
       "  <thead>\n",
       "    <tr style=\"text-align: right;\">\n",
       "      <th></th>\n",
       "      <th>Provider</th>\n",
       "      <th>CPT Codes</th>\n",
       "      <th>Count</th>\n",
       "    </tr>\n",
       "  </thead>\n",
       "  <tbody>\n",
       "    <tr>\n",
       "      <th>0</th>\n",
       "      <td>Paige  Dennis</td>\n",
       "      <td>99308</td>\n",
       "      <td>65</td>\n",
       "    </tr>\n",
       "    <tr>\n",
       "      <th>1</th>\n",
       "      <td>Paige  Dennis</td>\n",
       "      <td>99309</td>\n",
       "      <td>34</td>\n",
       "    </tr>\n",
       "    <tr>\n",
       "      <th>2</th>\n",
       "      <td>Christina Hay</td>\n",
       "      <td>99308</td>\n",
       "      <td>8</td>\n",
       "    </tr>\n",
       "    <tr>\n",
       "      <th>3</th>\n",
       "      <td>Paige  Dennis</td>\n",
       "      <td>99306</td>\n",
       "      <td>6</td>\n",
       "    </tr>\n",
       "    <tr>\n",
       "      <th>4</th>\n",
       "      <td>Christina Hay</td>\n",
       "      <td>99305</td>\n",
       "      <td>3</td>\n",
       "    </tr>\n",
       "    <tr>\n",
       "      <th>5</th>\n",
       "      <td>Paige  Dennis</td>\n",
       "      <td>99306,44444</td>\n",
       "      <td>3</td>\n",
       "    </tr>\n",
       "    <tr>\n",
       "      <th>6</th>\n",
       "      <td>Hina Patel</td>\n",
       "      <td>99495</td>\n",
       "      <td>1</td>\n",
       "    </tr>\n",
       "    <tr>\n",
       "      <th>7</th>\n",
       "      <td>Paige  Dennis</td>\n",
       "      <td>99305</td>\n",
       "      <td>1</td>\n",
       "    </tr>\n",
       "    <tr>\n",
       "      <th>8</th>\n",
       "      <td>Roshana Brown</td>\n",
       "      <td>99495</td>\n",
       "      <td>1</td>\n",
       "    </tr>\n",
       "  </tbody>\n",
       "</table>\n",
       "</div>"
      ],
      "text/plain": [
       "        Provider    CPT Codes  Count\n",
       "0  Paige  Dennis        99308     65\n",
       "1  Paige  Dennis        99309     34\n",
       "2  Christina Hay        99308      8\n",
       "3  Paige  Dennis        99306      6\n",
       "4  Christina Hay        99305      3\n",
       "5  Paige  Dennis  99306,44444      3\n",
       "6     Hina Patel        99495      1\n",
       "7  Paige  Dennis        99305      1\n",
       "8  Roshana Brown        99495      1"
      ]
     },
     "execution_count": 30,
     "metadata": {},
     "output_type": "execute_result"
    }
   ],
   "source": [
    "group = Facilites_groups.get_group( 'Accolade Healthcare of Pontiac LLC')\n",
    "provider=group[['Provider', 'CPT Codes', 'DOS']]\n",
    "provider['CPT Codes'] = provider['CPT Codes'].astype(str).str.split(',')\n",
    "provider_exploded = provider.explode('CPT Codes')\n",
    "provider_exploded['CPT Codes'] = provider_exploded['CPT Codes'].str.strip()\n",
    "provider_exploded\n",
    "counts = group[['Provider', 'CPT Codes']].value_counts().reset_index(name='Count')\n",
    "counts"
   ]
  },
  {
   "cell_type": "code",
   "execution_count": null,
   "id": "c5cf5c27",
   "metadata": {},
   "outputs": [],
   "source": [
    "filtered = provider_exploded[(provider_exploded['Provider'] == 'Hina Patel')]\n",
    "cpt_time_dict = {\n",
    "    \"99304\": 60,\n",
    "    \"99305\": 75,\n",
    "    \"99306\": 90,\n",
    "    \"99307\": 15,\n",
    "    \"99308\": 25,\n",
    "    \"99309\": 35,\n",
    "    \"99310\": 45\n",
    "}\n",
    "sum=150+(13*35)"
   ]
  },
  {
   "cell_type": "code",
   "execution_count": null,
   "id": "fe860d95",
   "metadata": {},
   "outputs": [
    {
     "data": {
      "text/html": [
       "<div>\n",
       "<style scoped>\n",
       "    .dataframe tbody tr th:only-of-type {\n",
       "        vertical-align: middle;\n",
       "    }\n",
       "\n",
       "    .dataframe tbody tr th {\n",
       "        vertical-align: top;\n",
       "    }\n",
       "\n",
       "    .dataframe thead th {\n",
       "        text-align: right;\n",
       "    }\n",
       "</style>\n",
       "<table border=\"1\" class=\"dataframe\">\n",
       "  <thead>\n",
       "    <tr style=\"text-align: right;\">\n",
       "      <th></th>\n",
       "      <th>Provider</th>\n",
       "      <th>CPT Codes</th>\n",
       "      <th>DOS</th>\n",
       "    </tr>\n",
       "  </thead>\n",
       "  <tbody>\n",
       "    <tr>\n",
       "      <th>16299</th>\n",
       "      <td>Hina Patel</td>\n",
       "      <td>99495</td>\n",
       "      <td>07/03/2025</td>\n",
       "    </tr>\n",
       "  </tbody>\n",
       "</table>\n",
       "</div>"
      ],
      "text/plain": [
       "         Provider CPT Codes         DOS\n",
       "16299  Hina Patel     99495  07/03/2025"
      ]
     },
     "execution_count": 32,
     "metadata": {},
     "output_type": "execute_result"
    }
   ],
   "source": [
    "filtered"
   ]
  },
  {
   "cell_type": "code",
   "execution_count": null,
   "id": "4109699c",
   "metadata": {},
   "outputs": [],
   "source": []
  },
  {
   "cell_type": "code",
   "execution_count": null,
   "id": "ec209414",
   "metadata": {},
   "outputs": [
    {
     "data": {
      "text/plain": [
       "{'Facility_Data': {'Accolade Healthcare of Danville':             Provider         DOS  Minutes      Hours\n",
       "  0  Stephen Skimehorn  07/02/2025      175   2.916667\n",
       "  1  Stephen Skimehorn  07/07/2025      650  10.833333\n",
       "  2  Stephen Skimehorn  07/09/2025      250   4.166667\n",
       "  3  Stephen Skimehorn  07/14/2025      675  11.250000\n",
       "  4  Stephen Skimehorn  07/16/2025      100   1.666667\n",
       "  5  Stephen Skimehorn  07/21/2025      775  12.916667\n",
       "  6  Stephen Skimehorn  07/23/2025      400   6.666667,\n",
       "  'Accolade Healthcare of Paxton Senior Living - SNF':         Provider         DOS  Minutes      Hours\n",
       "  0  Christina Hay  07/01/2025      510   8.500000\n",
       "  1  Christina Hay  07/03/2025      425   7.083333\n",
       "  2  Christina Hay  07/10/2025      870  14.500000\n",
       "  3  Christina Hay  07/15/2025      750  12.500000\n",
       "  4  Christina Hay  07/17/2025      555   9.250000\n",
       "  5  Christina Hay  07/22/2025      610  10.166667\n",
       "  6  Christina Hay  07/24/2025      670  11.166667,\n",
       "  'Accolade Healthcare of Paxton on Pells':         Provider         DOS  Minutes      Hours\n",
       "  0  Christina Hay  07/01/2025    740.0  12.333333\n",
       "  1  Christina Hay  07/03/2025    285.0   4.750000\n",
       "  2  Christina Hay  07/10/2025    665.0  11.083333\n",
       "  3  Christina Hay  07/15/2025    595.0   9.916667\n",
       "  4  Christina Hay  07/17/2025    420.0   7.000000\n",
       "  5  Christina Hay  07/22/2025    780.0  13.000000\n",
       "  6  Christina Hay  07/24/2025    410.0   6.833333,\n",
       "  'Accolade Healthcare of Peoria (M)':     Provider         DOS  Minutes     Hours\n",
       "  0  Eli Perez  07/08/2025    365.0  6.083333\n",
       "  1  Eli Perez  07/16/2025    525.0  8.750000\n",
       "  2  Eli Perez  07/24/2025     85.0  1.416667\n",
       "  3  Eli Perez  07/26/2025     35.0  0.583333\n",
       "  4  Eli Perez  07/29/2025     75.0  1.250000,\n",
       "  'Accolade Healthcare of Pontiac LLC':         Provider         DOS  Minutes      Hours\n",
       "  0  Christina Hay  07/02/2025    425.0   7.083333\n",
       "  1  Paige  Dennis  07/07/2025    755.0  12.583333\n",
       "  2  Paige  Dennis  07/09/2025    730.0  12.166667\n",
       "  3  Paige  Dennis  07/14/2025    650.0  10.833333\n",
       "  4  Paige  Dennis  07/16/2025    710.0  11.833333\n",
       "  5  Paige  Dennis  07/21/2025    855.0  14.250000},\n",
       " 'Corp_data':                                             Facility  \\\n",
       " 0                    Accolade Healthcare of Danville   \n",
       " 1  Accolade Healthcare of Paxton Senior Living - SNF   \n",
       " 2             Accolade Healthcare of Paxton on Pells   \n",
       " 3                  Accolade Healthcare of Peoria (M)   \n",
       " 4                 Accolade Healthcare of Pontiac LLC   \n",
       " \n",
       "                       Clinician      Hours  \n",
       " 0             Stephen Skimehorn  50.416667  \n",
       " 1                 Christina Hay  73.166667  \n",
       " 2                 Christina Hay  64.916667  \n",
       " 3                     Eli Perez  18.083333  \n",
       " 4  Christina Hay\\nPaige  Dennis  68.750000  }"
      ]
     },
     "execution_count": 33,
     "metadata": {},
     "output_type": "execute_result"
    }
   ],
   "source": [
    "metadata[\"Accolade\"]"
   ]
  },
  {
   "cell_type": "code",
   "execution_count": null,
   "id": "fc97fba7",
   "metadata": {},
   "outputs": [
    {
     "name": "stderr",
     "output_type": "stream",
     "text": [
      "<>:1: SyntaxWarning: invalid escape sequence '\\p'\n",
      "<>:1: SyntaxWarning: invalid escape sequence '\\p'\n",
      "C:\\Users\\Lenovo\\AppData\\Local\\Temp\\ipykernel_12480\\2200346168.py:1: SyntaxWarning: invalid escape sequence '\\p'\n",
      "  new_PR=pd.read_excel(\"D:\\payroll\\Payroll History (18) (1).xlsx\")\n",
      "C:\\Users\\Lenovo\\AppData\\Local\\Temp\\ipykernel_12480\\2200346168.py:1: SyntaxWarning: invalid escape sequence '\\p'\n",
      "  new_PR=pd.read_excel(\"D:\\payroll\\Payroll History (18) (1).xlsx\")\n"
     ]
    },
    {
     "ename": "NameError",
     "evalue": "name 'pd' is not defined",
     "output_type": "error",
     "traceback": [
      "\u001b[31m---------------------------------------------------------------------------\u001b[39m",
      "\u001b[31mNameError\u001b[39m                                 Traceback (most recent call last)",
      "\u001b[36mCell\u001b[39m\u001b[36m \u001b[39m\u001b[32mIn[1]\u001b[39m\u001b[32m, line 1\u001b[39m\n\u001b[32m----> \u001b[39m\u001b[32m1\u001b[39m new_PR=\u001b[43mpd\u001b[49m.read_excel(\u001b[33m\"\u001b[39m\u001b[33mD:\u001b[39m\u001b[33m\\\u001b[39m\u001b[33mpayroll\u001b[39m\u001b[33m\\\u001b[39m\u001b[33mPayroll History (18) (1).xlsx\u001b[39m\u001b[33m\"\u001b[39m)\n",
      "\u001b[31mNameError\u001b[39m: name 'pd' is not defined"
     ]
    }
   ],
   "source": [
    "\n",
    "new_PR=pd.read_excel(\"D:\\payroll\\Payroll History (18) (1).xlsx\")"
   ]
  },
  {
   "cell_type": "code",
   "execution_count": null,
   "id": "226381f2",
   "metadata": {},
   "outputs": [],
   "source": []
  }
 ],
 "metadata": {
  "kernelspec": {
   "display_name": "clean_env",
   "language": "python",
   "name": "python3"
  },
  "language_info": {
   "codemirror_mode": {
    "name": "ipython",
    "version": 3
   },
   "file_extension": ".py",
   "mimetype": "text/x-python",
   "name": "python",
   "nbconvert_exporter": "python",
   "pygments_lexer": "ipython3",
   "version": "3.13.1"
  }
 },
 "nbformat": 4,
 "nbformat_minor": 5
}
